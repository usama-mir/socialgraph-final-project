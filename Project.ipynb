{
 "cells": [
  {
   "cell_type": "markdown",
   "id": "edf12a09",
   "metadata": {},
   "source": [
    "# Social Graphs Project: Analyzing artists and songs"
   ]
  },
  {
   "cell_type": "code",
   "execution_count": null,
   "id": "aaac7280",
   "metadata": {
    "collapsed": true
   },
   "outputs": [],
   "source": [
    "#pip install spotipy\n",
    "#pip install bs4\n",
    "# The one below requires to have git installed\n",
    "#!pip install git+https://github.com/johnwmillr/LyricsGenius.git"
   ]
  },
  {
   "cell_type": "code",
   "execution_count": null,
   "id": "a81a77a8",
   "metadata": {},
   "outputs": [],
   "source": [
    "import spotipy\n",
    "from spotipy.oauth2 import SpotifyClientCredentials\n",
    "from bs4 import BeautifulSoup\n",
    "import re\n",
    "import requests\n",
    "import json\n",
    "import networkx as nx\n",
    "from tqdm import tqdm\n",
    "import json\n",
    "import codecs\n",
    "from requests.exceptions import ReadTimeout\n",
    "import lyricsgenius"
   ]
  },
  {
   "cell_type": "code",
   "execution_count": null,
   "id": "488fd193",
   "metadata": {},
   "outputs": [],
   "source": [
    "CLIENT_ID = \"9a8ba8428ffc4b219099ad261a1366cf\"\n",
    "CLIENT_SECRET = \"24b64e8cfee747889094e8a09da2b8f2\"\n",
    "\n",
    "# Spotify authentication (without user)\n",
    "client_credentials_manager = SpotifyClientCredentials(client_id=SPOTIFY_CLIENT_ID, client_secret=SPOTIFY_CLIENT_SECRET)\n",
    "sp = spotipy.Spotify(client_credentials_manager = client_credentials_manager)"
   ]
  },
  {
   "cell_type": "code",
   "execution_count": null,
   "id": "1f1f37f8",
   "metadata": {},
   "outputs": [],
   "source": [
    "\n",
    "grant_type = 'client_credentials'\n",
    "body_params = {'grant_type' : grant_type}\n",
    "\n",
    "url='https://accounts.spotify.com/api/token'\n",
    "response = requests.post(url, data=body_params, auth = (CLIENT_ID, CLIENT_SECRET)) \n",
    "\n",
    "token_raw = json.loads(response.text)\n",
    "token = token_raw[\"access_token\"]"
   ]
  },
  {
   "cell_type": "code",
   "execution_count": null,
   "id": "7c75abdd",
   "metadata": {},
   "outputs": [],
   "source": [
    "headers = {\"Authorization\": \"Bearer {}\".format(token)}\n",
    "r = requests.get(url=\"https://api.spotify.com/v1/artists/id/0TnOYISbd1XYRBk9myaseg\", headers=headers)\n",
    "print(r)"
   ]
  },
  {
   "cell_type": "markdown",
   "id": "7fd7e1af",
   "metadata": {},
   "source": [
    "# Data collection"
   ]
  },
  {
   "cell_type": "markdown",
   "id": "3f258507",
   "metadata": {},
   "source": [
    "To start with, we want a list of artists (we chose the Wikipedia list of hip-hop artist).\n",
    "Once we have it, we will, for every artist, find the list of all their songs, and all of the other artists they featured on a song."
   ]
  },
  {
   "cell_type": "code",
   "execution_count": null,
   "id": "b8409b68",
   "metadata": {},
   "outputs": [],
   "source": [
    "'''\n",
    "# ------------- Getting a list of hip-hop artists from Wikipedia -----------------------------------------------------\n",
    "# We will use the names for getting info from the Spotify API\n",
    "# The wikipedia links can be useful should we need to get info from the artists' pages\n",
    "\n",
    "# artists = {artist_name: [wiki_link, ...], ...}\n",
    "artists = {}\n",
    "\n",
    "# Parsing html content with beautifulsoup\n",
    "soup = BeautifulSoup(requests.get(\"https://en.wikipedia.org/wiki/List_of_hip_hop_musicians\").content, 'html.parser')\n",
    "lists = soup.find_all([\"div\"], {\"class\": \"div-col\"})\n",
    "\n",
    "for l in tqdm(lists):\n",
    "    for match in re.findall(r\"href=\\\"([\\w\\s=\\/\\(\\).'%+!éè%$-]*)[\\w\\s=\\\"'\\/\\(\\).\\%+!éè$-]+>([.\\w\\s+'!éè$-]+)\", str(l)):\n",
    "        artists[match[1].lower()] = []\n",
    "        artists[match[1].lower()].append(match[0])\n",
    "        \n",
    "print(len(artists), \"artists were found on the Wikipedia page and added to the dictionary.\")\n",
    "\n",
    "\n",
    "# ------------- Getting the Spotify URI of every artist ---------------------------------------------------\n",
    "\n",
    "temp = len(artists)\n",
    "to_remove = []\n",
    "\n",
    "for a in tqdm(artists):\n",
    "    results = sp.search(q='artist:' + a, type='artist')\n",
    "    # The item number 0 is the most popular result, so it is ikely to be the artist we're looking for\n",
    "    try:\n",
    "        artists[a].append(results['artists']['items'][0]['uri'])\n",
    "    except:\n",
    "        to_remove.append(a)\n",
    "\n",
    "for a in to_remove:\n",
    "    artists.pop(a)\n",
    "    \n",
    "print(temp-len(artists), \"artists were not found with the Spotify API and were removed from the dictionary.\")\n",
    "\n",
    "'''"
   ]
  },
  {
   "cell_type": "code",
   "execution_count": null,
   "id": "ef392ef3",
   "metadata": {},
   "outputs": [],
   "source": [
    "# Saving the dictionary to a local text file\n",
    "\n",
    "with codecs.open(\"C:/Users/difto/Desktop/artists.txt\", 'w', \"utf-8\") as f:\n",
    "    f.write(json.dumps(artists))"
   ]
  },
  {
   "cell_type": "code",
   "execution_count": null,
   "id": "206e07e8",
   "metadata": {},
   "outputs": [],
   "source": [
    "# Reloading the data from the file to make sure the cell runs on a clean version of it\n",
    "with codecs.open(\"./artists.txt\", 'r', \"utf-8\") as f:\n",
    "    data = json.load(f)"
   ]
  },
  {
   "cell_type": "code",
   "execution_count": null,
   "id": "1bd3e72e",
   "metadata": {
    "scrolled": true
   },
   "outputs": [],
   "source": [
    "# ------------- Getting all the songs from every artist, and every artist they featured on a song ----------------------------\n",
    "\n",
    "# We will do the following data collection part in batches of, say, 100 artists because the Spotify API doesn't like to get\n",
    "# too many requests and the code throws an error\n",
    "\n",
    "artist_names = list(data.keys())\n",
    "n = len(artist_names)\n",
    "batch_indexes = [100 * i for i in range((n+100)//100)] + [n]\n",
    "\n",
    "failedRequestIndexes = []\n",
    "\n",
    "\n",
    "for i in range(len(batch_indexes)):\n",
    "    print(i, \": Indexes from\", batch_indexes[i], \"to\", batch_indexes[i+1])\n",
    "    for j in tqdm(range(batch_indexes[i], batch_indexes[i+1])):\n",
    "        feats = set()\n",
    "        tracks_uris = set()\n",
    "        # We give the artist's URI to the sp.artist_albums function\n",
    "        \n",
    "        try:\n",
    "        \n",
    "            for album in sp.artist_albums(data[artist_names[j]][1], limit=50)['items']:\n",
    "                # We fetch the album data using the API\n",
    "                r = sp.album_tracks(album['uri'])\n",
    "                # We go through every song on the album\n",
    "                for track_number in range(len(r['items'])):\n",
    "                    # We might want to get also the song's name, in order to get the lyrics afterwards\n",
    "                    \n",
    "                    # Getting the URI\n",
    "                    tracks_uris.add(r['items'][track_number]['uri'])\n",
    "                    # Getting the artists featured\n",
    "                    for item in r['items'][track_number]['artists']:\n",
    "                        feats.add(item['name'].lower())\n",
    "            data[artist_names[j]].append(list(feats))\n",
    "            data[artist_names[j]].append(list(tracks_uris))\n",
    "            \n",
    "        except ReadTimeout:\n",
    "            \n",
    "            print(\"Spotify timed out for\", j)\n",
    "            failedRequestIndexes.append(j)\n",
    "    \n",
    "    # Saving the progress so far\n",
    "    with codecs.open(\"/data/data\"+str(i)+\".txt\", 'w', \"utf-8\") as f:\n",
    "        f.write(json.dumps(artists))\n",
    "    \n",
    "    print(i, \": Done\")"
   ]
  },
  {
   "cell_type": "code",
   "execution_count": null,
   "id": "b57e20fd",
   "metadata": {},
   "outputs": [],
   "source": [
    "# If the cell above runs correctly, we end up with this format:\n",
    "# data = {artist: [wikipedia_link, spotify_uri, [featured_artist, ...], [track_uri, ...]], ...}"
   ]
  },
  {
   "cell_type": "code",
   "execution_count": null,
   "id": "c92537c6",
   "metadata": {
    "collapsed": true
   },
   "outputs": [],
   "source": [
    "for album in sp.artist_albums(data['lil mosey'][1], limit=50)['items']\n",
    "    r = sp.album_tracks(album['uri'])\n",
    "    # We go through every song on the album\n",
    "    for track_number in range(len(r['items'])):\n",
    "        # We might want to get also the song's name, in order to get the lyrics afterwards\n",
    "        \n",
    "        # Getting the URI\n",
    "        tracks_uris.add(r['items'][track_number]['uri'])\n",
    "        # Getting the artists featured\n",
    "        for item in r['items'][track_number]['artists']:\n",
    "            feats.add(item['name'].lower())"
   ]
  },
  {
   "cell_type": "code",
   "execution_count": null,
   "id": "ec88845c",
   "metadata": {},
   "outputs": [],
   "source": [
    "import requests\n",
    "r = requests.get()"
   ]
  },
  {
   "cell_type": "code",
   "execution_count": null,
   "id": "f824c010",
   "metadata": {},
   "outputs": [],
   "source": [
    "sp.artist_albums(data['lil mosey'][1])"
   ]
  },
  {
   "cell_type": "code",
   "execution_count": null,
   "id": "c72ff9c7",
   "metadata": {},
   "outputs": [],
   "source": [
    "test_call = sp.album_tracks/()"
   ]
  },
  {
   "cell_type": "code",
   "execution_count": null,
   "id": "91aba05e",
   "metadata": {},
   "outputs": [],
   "source": [
    "r = sp.album_tracks(sp.artist_albums(data['lil mosey'][1], limit=50)['items'][0]['uri'])\n",
    "r['items']"
   ]
  },
  {
   "cell_type": "code",
   "execution_count": null,
   "id": "da4d6219",
   "metadata": {
    "collapsed": true
   },
   "outputs": [],
   "source": [
    "# Getting the lyrics of a given song from Genius\n",
    "\n",
    "#GENIUS_CLIENT_ID = \"gCDSyLMANvERLDi4GdVvKN6l7-QB1y2NHSkPr6QCUPVjKzEG_93CxN6Plj82nzWh\"\n",
    "GENIUS_ACCESS_TOKEN = \"eAW6zYgc_Mf2dYp3xkouP8c8SuGjWg76mlVC95htgmJtOkD_OpKbwXK8aqfQMFRA\"\n",
    "\n",
    "LyricsGenius = lyricsgenius.Genius(GENIUS_ACCESS_TOKEN)\n",
    "\n",
    "try:\n",
    "    song = LyricsGenius.search_song(\"lil mosey\", \"burberry headband\")\n",
    "except ReadTimeout or Timeout:\n",
    "    pass\n",
    "    \n",
    "print(song.lyrics)"
   ]
  },
  {
   "cell_type": "markdown",
   "id": "834a053e",
   "metadata": {},
   "source": [
    "# Creating the graph"
   ]
  },
  {
   "cell_type": "markdown",
   "id": "97692077",
   "metadata": {},
   "source": [
    "Now we can create the graph, following these rules:\n",
    "\n",
    "1. Every node corresponds to one artist\n",
    "1. An edge exists between two nodes if and only if the two corresponding artists are featured on a song (made by one of the two artists, i.e. for now we don't handle the case where, say, 3 artists are on a same song)"
   ]
  },
  {
   "cell_type": "code",
   "execution_count": null,
   "id": "141c1627",
   "metadata": {},
   "outputs": [],
   "source": [
    "# Creating the graph without node attributes for now\n",
    "\n",
    "G = nx.Graph()\n",
    "\n",
    "for artist in data:\n",
    "    G.add_node(artist)\n",
    "    for featured_artist in data[artist][2]:\n",
    "        if featured_artist in data:\n",
    "            G.add_edge(artist, featured_artist)"
   ]
  }
 ],
 "metadata": {
  "kernelspec": {
   "display_name": "socialgraph",
   "language": "python",
   "name": "python3"
  },
  "language_info": {
   "codemirror_mode": {
    "name": "ipython",
    "version": 3
   },
   "file_extension": ".py",
   "mimetype": "text/x-python",
   "name": "python",
   "nbconvert_exporter": "python",
   "pygments_lexer": "ipython3",
   "version": "3.8.13 | packaged by conda-forge | (default, Mar 25 2022, 06:05:16) \n[Clang 12.0.1 ]"
  },
  "vscode": {
   "interpreter": {
    "hash": "9ffe22b4504b45d99a42c0430f8f01d3ee01d683ac456ffd3b0a8ab73eae2d5b"
   }
  }
 },
 "nbformat": 4,
 "nbformat_minor": 5
}
